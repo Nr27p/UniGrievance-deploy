{
 "cells": [
  {
   "cell_type": "code",
   "execution_count": 7,
   "id": "1dcef8ce",
   "metadata": {},
   "outputs": [
    {
     "name": "stdout",
     "output_type": "stream",
     "text": [
      "Defaulting to user installation because normal site-packages is not writeable\n",
      "Requirement already satisfied: pdfplumber in c:\\users\\joeln\\appdata\\roaming\\python\\python312\\site-packages (0.11.4)\n",
      "Requirement already satisfied: pdfminer.six==20231228 in c:\\users\\joeln\\appdata\\roaming\\python\\python312\\site-packages (from pdfplumber) (20231228)\n",
      "Requirement already satisfied: Pillow>=9.1 in c:\\users\\joeln\\appdata\\roaming\\python\\python312\\site-packages (from pdfplumber) (10.4.0)\n",
      "Requirement already satisfied: pypdfium2>=4.18.0 in c:\\users\\joeln\\appdata\\roaming\\python\\python312\\site-packages (from pdfplumber) (4.30.0)\n",
      "Requirement already satisfied: charset-normalizer>=2.0.0 in c:\\users\\joeln\\appdata\\roaming\\python\\python312\\site-packages (from pdfminer.six==20231228->pdfplumber) (3.4.0)\n",
      "Requirement already satisfied: cryptography>=36.0.0 in c:\\users\\joeln\\appdata\\roaming\\python\\python312\\site-packages (from pdfminer.six==20231228->pdfplumber) (43.0.1)\n",
      "Requirement already satisfied: cffi>=1.12 in c:\\users\\joeln\\appdata\\roaming\\python\\python312\\site-packages (from cryptography>=36.0.0->pdfminer.six==20231228->pdfplumber) (1.17.1)\n",
      "Requirement already satisfied: pycparser in c:\\users\\joeln\\appdata\\roaming\\python\\python312\\site-packages (from cffi>=1.12->cryptography>=36.0.0->pdfminer.six==20231228->pdfplumber) (2.22)\n",
      "Note: you may need to restart the kernel to use updated packages.\n"
     ]
    }
   ],
   "source": [
    "pip install pdfplumber"
   ]
  },
  {
   "cell_type": "code",
   "execution_count": 8,
   "id": "0bd65ca7",
   "metadata": {},
   "outputs": [
    {
     "name": "stdout",
     "output_type": "stream",
     "text": [
      "Extracted description from PDF:\n",
      "Title: \"Task Urgency Report\"\n",
      "Description:\n",
      "\"This task involves fixing a critical bug that is causing major disruptions. It requires urgent attention\n",
      "and should be prioritized over other medium-priority tasks. Failure to resolve this issue promptly will\n",
      "have a high impact on the project.\"\n",
      "The priority of the description is: High\n"
     ]
    }
   ],
   "source": [
    "import csv\n",
    "import re\n",
    "from textblob import TextBlob\n",
    "import pdfplumber  # For extracting text from PDF\n",
    "\n",
    "# Load the corpus from CSV\n",
    "def load_corpus(csv_file):\n",
    "    corpus = {}\n",
    "    with open(csv_file, mode='r') as file:\n",
    "        reader = csv.reader(file)\n",
    "        next(reader)  # Skip the header\n",
    "        for row in reader:\n",
    "            word, priority = row\n",
    "            corpus[word] = priority\n",
    "    return corpus\n",
    "\n",
    "# Priority classification function\n",
    "def classify_priority(description, corpus):\n",
    "    # Convert description to lower case\n",
    "    description = description.lower()\n",
    "    \n",
    "    # Split description into words\n",
    "    words = re.findall(r'\\b\\w+\\b', description)\n",
    "    \n",
    "    # Initialize priority count\n",
    "    priority_count = {\"High\": 0, \"Medium\": 0, \"Low\": 0}\n",
    "    \n",
    "    # Check each word in the description\n",
    "    for word in words:\n",
    "        if word in corpus:\n",
    "            category = corpus[word]\n",
    "            priority_count[category] += 1\n",
    "    \n",
    "    # Determine the highest priority category\n",
    "    max_priority = max(priority_count, key=priority_count.get)\n",
    "    \n",
    "    # Handle the case where all counts are zero (no relevant words found)\n",
    "    if priority_count[max_priority] == 0:\n",
    "        return \"Low\"\n",
    "    \n",
    "    # Perform sentiment analysis\n",
    "    blob = TextBlob(description)\n",
    "    sentiment = blob.sentiment.polarity\n",
    "    \n",
    "    # Adjust priority based on sentiment (example logic)\n",
    "    if sentiment < -0.5:\n",
    "        return \"High\"\n",
    "    elif sentiment < 0:\n",
    "        return max_priority\n",
    "    else:\n",
    "        return max_priority if priority_count[max_priority] > 0 else \"Low\"\n",
    "\n",
    "# Function to extract text (description) from PDF\n",
    "def extract_description_from_pdf(pdf_file):\n",
    "    with pdfplumber.open(pdf_file) as pdf:\n",
    "        text = \"\"\n",
    "        for page in pdf.pages:\n",
    "            page_text = page.extract_text()\n",
    "            if page_text:\n",
    "                text += page_text\n",
    "        return text.strip()  # Return the extracted text as the description\n",
    "\n",
    "# Load the CSV file into the corpus\n",
    "csv_file = 'corpusForBEproject.csv'\n",
    "corpus = load_corpus(csv_file)\n",
    "\n",
    "# Extract description from the PDF file\n",
    "pdf_file = 'sample.pdf'\n",
    "description = extract_description_from_pdf(pdf_file)\n",
    "print(f\"Extracted description from PDF:\\n{description}\")\n",
    "\n",
    "# Classify the priority of the extracted description\n",
    "priority = classify_priority(description, corpus)\n",
    "print(f\"The priority of the description is: {priority}\")\n"
   ]
  }
 ],
 "metadata": {
  "kernelspec": {
   "display_name": "Python 3",
   "language": "python",
   "name": "python3"
  },
  "language_info": {
   "codemirror_mode": {
    "name": "ipython",
    "version": 3
   },
   "file_extension": ".py",
   "mimetype": "text/x-python",
   "name": "python",
   "nbconvert_exporter": "python",
   "pygments_lexer": "ipython3",
   "version": "3.12.6"
  }
 },
 "nbformat": 4,
 "nbformat_minor": 5
}
